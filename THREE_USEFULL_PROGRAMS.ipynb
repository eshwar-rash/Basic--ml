{
  "nbformat": 4,
  "nbformat_minor": 0,
  "metadata": {
    "colab": {
      "name": "THREE USEFULL PROGRAMS",
      "provenance": [],
      "authorship_tag": "ABX9TyMUF1BY1qolu9wXorS3dc+f",
      "include_colab_link": true
    },
    "kernelspec": {
      "name": "python3",
      "display_name": "Python 3"
    },
    "language_info": {
      "name": "python"
    }
  },
  "cells": [
    {
      "cell_type": "markdown",
      "metadata": {
        "id": "view-in-github",
        "colab_type": "text"
      },
      "source": [
        "<a href=\"https://colab.research.google.com/github/eshwar-rash/Basic--ml/blob/main/THREE_USEFULL_PROGRAMS.ipynb\" target=\"_parent\"><img src=\"https://colab.research.google.com/assets/colab-badge.svg\" alt=\"Open In Colab\"/></a>"
      ]
    },
    {
      "cell_type": "markdown",
      "metadata": {
        "id": "b1QLJ3OADFfF"
      },
      "source": [
        "SUM OF TWO NUMBERS\n",
        "\n"
      ]
    },
    {
      "cell_type": "code",
      "metadata": {
        "colab": {
          "base_uri": "https://localhost:8080/"
        },
        "id": "ujZ0ceSWDOPG",
        "outputId": "7d3d70f9-957a-48f5-cb19-85315dc7431a"
      },
      "source": [
        "\n",
        "num1 = 1.5\n",
        "num2 = 6.3\n",
        "sum = num1 + num2\n",
        "print('The sum of {0} and {1} is {2}'.format(num1, num2, sum))"
      ],
      "execution_count": 2,
      "outputs": [
        {
          "output_type": "stream",
          "name": "stdout",
          "text": [
            "The sum of 1.5 and 6.3 is 7.8\n"
          ]
        }
      ]
    },
    {
      "cell_type": "markdown",
      "metadata": {
        "id": "wEoCbS5UDa8r"
      },
      "source": [
        "**bold text** Python Program to find the L.C.M. of two input number"
      ]
    },
    {
      "cell_type": "code",
      "metadata": {
        "colab": {
          "base_uri": "https://localhost:8080/"
        },
        "id": "neSj5jkwDhl5",
        "outputId": "77864941-8c9a-4f0a-ecb7-815dbf08430f"
      },
      "source": [
        "\n",
        "def compute_lcm(x, y):\n",
        "   if x > y:\n",
        "       greater = x\n",
        "   else:\n",
        "       greater = y\n",
        "\n",
        "   while(True):\n",
        "       if((greater % x == 0) and (greater % y == 0)):\n",
        "           lcm = greater\n",
        "           break\n",
        "       greater += 1\n",
        "\n",
        "   return lcm\n",
        "\n",
        "num1 = 54\n",
        "num2 = 24\n",
        "\n",
        "print(\"The L.C.M. is\", compute_lcm(num1, num2))"
      ],
      "execution_count": 3,
      "outputs": [
        {
          "output_type": "stream",
          "name": "stdout",
          "text": [
            "The L.C.M. is 216\n"
          ]
        }
      ]
    },
    {
      "cell_type": "markdown",
      "metadata": {
        "id": "SCq0kxLgD77q"
      },
      "source": [
        " Python program to find the largest number among the three input numbers"
      ]
    },
    {
      "cell_type": "code",
      "metadata": {
        "colab": {
          "base_uri": "https://localhost:8080/"
        },
        "id": "fiBGZAPPD5Er",
        "outputId": "4e6fd48c-dbe0-436d-8a9c-37335b6f6ffa"
      },
      "source": [
        "\n",
        "num1 = 10\n",
        "num2 = 14\n",
        "num3 = 12\n",
        "\n",
        "\n",
        "\n",
        "if (num1 >= num2) and (num1 >= num3):\n",
        "   largest = num1\n",
        "elif (num2 >= num1) and (num2 >= num3):\n",
        "   largest = num2\n",
        "else:\n",
        "   largest = num3\n",
        "\n",
        "print(\"The largest number is\", largest)"
      ],
      "execution_count": 4,
      "outputs": [
        {
          "output_type": "stream",
          "name": "stdout",
          "text": [
            "The largest number is 14\n"
          ]
        }
      ]
    },
    {
      "cell_type": "markdown",
      "metadata": {
        "id": "zccOZCwiD4xl"
      },
      "source": [
        ""
      ]
    }
  ]
}